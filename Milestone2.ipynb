{
  "nbformat": 4,
  "nbformat_minor": 0,
  "metadata": {
    "colab": {
      "provenance": [],
      "include_colab_link": true
    },
    "kernelspec": {
      "name": "python3",
      "display_name": "Python 3"
    },
    "language_info": {
      "name": "python"
    }
  },
  "cells": [
    {
      "cell_type": "markdown",
      "metadata": {
        "id": "view-in-github",
        "colab_type": "text"
      },
      "source": [
        "<a href=\"https://colab.research.google.com/github/Bindubhavana2004/infosys/blob/main/Milestone2.ipynb\" target=\"_parent\"><img src=\"https://colab.research.google.com/assets/colab-badge.svg\" alt=\"Open In Colab\"/></a>"
      ]
    },
    {
      "cell_type": "markdown",
      "source": [
        "# Step 1:Load the dataset from previously saved and Preprocess the Data**"
      ],
      "metadata": {
        "id": "nkpdReuQTd_J"
      }
    },
    {
      "cell_type": "code",
      "source": [
        "import pandas as pd\n",
        "\n",
        "# Load the dataset\n",
        "file_path = '/Cleaned_Dataset_for_Online_Payment (3) (1).csv'\n",
        "data = pd.read_csv(file_path)\n",
        "\n",
        "# Display the first few rows of the dataset\n",
        "print(\"First few rows of the dataset:\")\n",
        "print(data.head())"
      ],
      "metadata": {
        "colab": {
          "base_uri": "https://localhost:8080/"
        },
        "id": "YB_BYUOM_myR",
        "outputId": "3e179d53-bb66-4bf3-d4cc-fd296bc31a51"
      },
      "execution_count": null,
      "outputs": [
        {
          "output_type": "stream",
          "name": "stdout",
          "text": [
            "First few rows of the dataset:\n",
            "   Unnamed: 0      amount  oldbalanceOrg  newbalanceOrig  type_CASH_OUT  \\\n",
            "0           0    76550.74     1096252.93      1172803.66          False   \n",
            "1           1    12617.11      339181.87       326564.76          False   \n",
            "2           2    22877.00       22877.00            0.00          False   \n",
            "3           3   182739.36      182739.36            0.00          False   \n",
            "4           4  4738282.28     4738282.28            0.00           True   \n",
            "\n",
            "   type_DEBIT  type_PAYMENT  type_TRANSFER  isFraud  \n",
            "0       False         False          False    False  \n",
            "1       False          True          False    False  \n",
            "2       False         False           True     True  \n",
            "3       False         False           True     True  \n",
            "4       False         False          False     True  \n"
          ]
        }
      ]
    },
    {
      "cell_type": "markdown",
      "source": [],
      "metadata": {
        "id": "J3IJHX6gViPl"
      }
    },
    {
      "cell_type": "markdown",
      "source": [
        "# Step 2: Split Dataset\n",
        "1) Split the dataset into training (70%), validation (15%), and testing (15%) sets with stratification to maintain class distribution.\\\n",
        "2) Convert the target variable to binary format.\\\n",
        "3) Save each split locally.\\\n",
        "4) Print details on split sizes and class distribution."
      ],
      "metadata": {
        "id": "mMeVum_UbHgp"
      }
    },
    {
      "cell_type": "code",
      "source": [
        "from sklearn.model_selection import train_test_split\n",
        "\n",
        "# Define features and target variable\n",
        "X = data.drop(columns=['isFraud'])  # Features (all columns except target)\n",
        "y = data['isFraud']  # Target variable\n",
        "\n",
        "# Split the dataset into training (70%), validation (15%), and testing (15%)\n",
        "X_train, X_temp, y_train, y_temp = train_test_split(X, y, test_size=0.30, random_state=42, stratify=y)  # 70% train, 30% temp\n",
        "X_val, X_test, y_val, y_test = train_test_split(X_temp, y_temp, test_size=0.50, random_state=42, stratify=y_temp)  # 50% of temp for val and test\n",
        "\n",
        "# Output the shapes of the datasets\n",
        "print(\"\\nShapes of the datasets:\")\n",
        "print(\"Training set:\", X_train.shape, y_train.shape)\n",
        "print(\"Validation set:\", X_val.shape, y_val.shape)\n",
        "print(\"Testing set:\", X_test.shape, y_test.shape)"
      ],
      "metadata": {
        "colab": {
          "base_uri": "https://localhost:8080/"
        },
        "id": "sTXF1ptKAJVs",
        "outputId": "9dd06f3f-4372-4d76-8b20-e655a47e3e66"
      },
      "execution_count": null,
      "outputs": [
        {
          "output_type": "stream",
          "name": "stdout",
          "text": [
            "\n",
            "Shapes of the datasets:\n",
            "Training set: (11498, 8) (11498,)\n",
            "Validation set: (2464, 8) (2464,)\n",
            "Testing set: (2464, 8) (2464,)\n"
          ]
        }
      ]
    },
    {
      "cell_type": "markdown",
      "source": [],
      "metadata": {
        "id": "jBTZ9ByKcs0I"
      }
    },
    {
      "cell_type": "markdown",
      "source": [
        "# Step 3:visualize the distribution of fraud and non-fraud cases in different subsets of a dataset\n",
        "Data Preparation: The code creates a dictionary containing the counts of fraud and non-fraud cases in each dataset (training, validation, and testing). These counts are stored in a DataFrame for easy manipulation.\n",
        "\n",
        "Data Transformation: To make it easier to plot, the DataFrame is \"melted,\" which means it's reshaped to a format compatible with Seaborn, a plotting library.\n",
        "\n",
        "Visualization:\n",
        "A bar plot is created, showing the fraud and non-fraud counts for each dataset subset.\n",
        "The plot has labels, a title, and uses a pastel color palette for a clearer view of the data balance across different sets.\n",
        "\n",
        "Display: Finally, the plot is displayed, giving a visual summary of how fraud and non-fraud cases are distributed in the training, validation, and testing datasets. This helps in assessing whether the data splits are consistent and appropriate for model training and evaluation."
      ],
      "metadata": {
        "id": "Up07Ctkwowxq"
      }
    },
    {
      "cell_type": "code",
      "source": [
        "import pandas as pd\n",
        "import matplotlib.pyplot as plt\n",
        "import seaborn as sns\n",
        "\n",
        "# Create a DataFrame to store the counts for plotting\n",
        "data_counts = {\n",
        "    'Set': ['Training', 'Validation', 'Testing'],\n",
        "    'Fraud': [y_train.value_counts().iloc[1], y_val.value_counts().iloc[1], y_test.value_counts().iloc[1]],\n",
        "    'Non-Fraud': [y_train.value_counts().iloc[0], y_val.value_counts().iloc[0], y_test.value_counts().iloc[0]]\n",
        "}\n",
        "\n",
        "counts_df = pd.DataFrame(data_counts)\n",
        "\n",
        "# Melt the DataFrame for easier plotting with Seaborn\n",
        "melted_counts = counts_df.melt(id_vars='Set', var_name='Class', value_name='Count')\n",
        "\n",
        "# Set the color palette for better visualization\n",
        "sns.set_palette(\"pastel\")\n",
        "\n",
        "# Create a bar plot\n",
        "plt.figure(figsize=(10, 6))\n",
        "sns.barplot(x='Set', y='Count', hue='Class', data=melted_counts)\n",
        "plt.title('Distribution of Fraud and Non-Fraud Cases in Datasets')\n",
        "plt.xlabel('Dataset')\n",
        "plt.ylabel('Count')\n",
        "plt.legend(title='Class')\n",
        "plt.xticks(rotation=0)\n",
        "plt.grid(axis='y')\n",
        "\n",
        "# Show the plot\n",
        "plt.show()"
      ],
      "metadata": {
        "colab": {
          "base_uri": "https://localhost:8080/",
          "height": 562
        },
        "id": "VF8im4eoAVBI",
        "outputId": "15e129ed-5378-447c-ac62-db820e00b5cb"
      },
      "execution_count": null,
      "outputs": [
        {
          "output_type": "display_data",
          "data": {
            "text/plain": [
              "<Figure size 1000x600 with 1 Axes>"
            ],
            "image/png": "[encoded data removed]"
          },
          "metadata": {}
        }
      ]
    },
    {
      "cell_type": "code",
      "source": [
        "!pip install xgboost"
      ],
      "metadata": {
        "colab": {
          "base_uri": "https://localhost:8080/"
        },
        "id": "DfqDVw7tAd97",
        "outputId": "07ee6e30-ff4c-46df-cef0-4cb3f19b3508"
      },
      "execution_count": null,
      "outputs": [
        {
          "output_type": "stream",
          "name": "stdout",
          "text": [
            "Requirement already satisfied: xgboost in /usr/local/lib/python3.10/dist-packages (2.1.2)\n",
            "Requirement already satisfied: numpy in /usr/local/lib/python3.10/dist-packages (from xgboost) (1.26.4)\n",
            "Requirement already satisfied: nvidia-nccl-cu12 in /usr/local/lib/python3.10/dist-packages (from xgboost) (2.23.4)\n",
            "Requirement already satisfied: scipy in /usr/local/lib/python3.10/dist-packages (from xgboost) (1.13.1)\n"
          ]
        }
      ]
    },
    {
      "cell_type": "code",
      "source": [
        "!pip install lightgbm"
      ],
      "metadata": {
        "colab": {
          "base_uri": "https://localhost:8080/"
        },
        "id": "F-RSck5UAu-e",
        "outputId": "7db2bce7-132a-4908-e362-8bcdb87b35ed"
      },
      "execution_count": null,
      "outputs": [
        {
          "output_type": "stream",
          "name": "stdout",
          "text": [
            "Requirement already satisfied: lightgbm in /usr/local/lib/python3.10/dist-packages (4.5.0)\n",
            "Requirement already satisfied: numpy>=1.17.0 in /usr/local/lib/python3.10/dist-packages (from lightgbm) (1.26.4)\n",
            "Requirement already satisfied: scipy in /usr/local/lib/python3.10/dist-packages (from lightgbm) (1.13.1)\n"
          ]
        }
      ]
    },
    {
      "cell_type": "markdown",
      "source": [
        "# Step 4:converting categorical labels in y_train and y_test into binary numeric values"
      ],
      "metadata": {
        "id": "O6CtfenopNhY"
      }
    },
    {
      "cell_type": "code",
      "source": [
        "# Encode the labels as 1 and 0\n",
        "y_train_encoded = y_train.map({'Fraud': 1, 'No Fraud': 0})\n",
        "y_test_encoded = y_test.map({'Fraud': 1, 'No Fraud': 0})"
      ],
      "metadata": {
        "id": "1Xrtay0qFAUC"
      },
      "execution_count": null,
      "outputs": []
    },
    {
      "cell_type": "markdown",
      "source": [
        "# Step 5: importing essential libraries for machine learning tasks\n",
        "1)LabelEncoder from sklearn.preprocessing: Used to convert categorical labels into numerical values, helpful for transforming target labels into a format suitable for model input.\n",
        "\n",
        "2)GridSearchCV from sklearn.model_selection: A tool for optimizing model hyperparameters by testing different parameter combinations and finding the best configuration based on cross-validation.\n",
        "\n",
        "3)xgboost as xgb: The xgboost library provides the XGBoost algorithm, an efficient and powerful gradient boosting algorithm commonly used for classification and regression tasks due to its speed and performance."
      ],
      "metadata": {
        "id": "Hqn2BvPJpZbQ"
      }
    },
    {
      "cell_type": "code",
      "source": [
        "from sklearn.preprocessing import LabelEncoder\n",
        "from sklearn.model_selection import GridSearchCV\n",
        "import xgboost as xgb\n"
      ],
      "metadata": {
        "id": "VI6uEDBhFS6d"
      },
      "execution_count": null,
      "outputs": []
    },
    {
      "cell_type": "markdown",
      "source": [
        "# Step 6:demonstrating how to use LabelEncoder to convert categorical labels into numeric values, suitable for machine learning models\n",
        "1)Label Preparation: Placeholder comments suggest replacing y_train with actual training labels.\n",
        "\n",
        "2)Label Encoding:\n",
        "\n",
        "The LabelEncoder is initialized.\n",
        "\n",
        "fit_transform is applied to y_train to encode the training labels. This method first learns the encoding based on y_train and then transforms it.\n",
        "\n",
        "transform is used on y_test to apply the same encoding (without fitting again), ensuring consistency between training and test labels.\n",
        "\n",
        "3)Verification: The encoded labels are printed for both y_train and y_test to verify that the encoding was successful."
      ],
      "metadata": {
        "id": "0vJSsuR7povY"
      }
    },
    {
      "cell_type": "code",
      "source": [
        "# Example labels - ensure you replace these with your actual labels\n",
        "# y_train = ... (your training labels)\n",
        "\n",
        "# Initialize the LabelEncoder\n",
        "label_encoder = LabelEncoder()\n",
        "\n",
        "# Fit the encoder and transform the labels\n",
        "y_train_encoded = label_encoder.fit_transform(y_train)  # For training labels\n",
        "y_test_encoded = label_encoder.transform(y_test)        # For test labels\n",
        "\n",
        "# Check the encoded labels\n",
        "print(\"Encoded training labels:\", y_train_encoded)\n",
        "print(\"Encoded test labels:\", y_test_encoded)\n"
      ],
      "metadata": {
        "colab": {
          "base_uri": "https://localhost:8080/"
        },
        "id": "OHsOZgLIF5F2",
        "outputId": "29f67dc4-1318-4081-eb5d-2a0f97194d8b"
      },
      "execution_count": null,
      "outputs": [
        {
          "output_type": "stream",
          "name": "stdout",
          "text": [
            "Encoded training labels: [0 1 0 ... 1 1 0]\n",
            "Encoded test labels: [1 0 1 ... 0 0 1]\n"
          ]
        }
      ]
    },
    {
      "cell_type": "markdown",
      "source": [
        "# Step 7: initializes an XGBoost classifier with a log loss evaluation metric and creates a parameter grid for hyperparameter tuning. The grid includes different values for tree depth, learning rate, sample fractions, and other parameters to find the best model configuration using GridSearchCV"
      ],
      "metadata": {
        "id": "2RLg5QrwqF9y"
      }
    },
    {
      "cell_type": "code",
      "source": [
        "# Define the XGBoost model\n",
        "xgb_model = xgb.XGBClassifier(use_label_encoder=False, eval_metric='logloss')\n",
        "\n",
        "# Define the parameter grid for tuning\n",
        "param_grid = {\n",
        "    'n_estimators': [100, 200, 300],\n",
        "    'max_depth': [3, 5, 7],\n",
        "    'learning_rate': [0.01, 0.1, 0.2],\n",
        "    'subsample': [0.8, 1.0],\n",
        "    'colsample_bytree': [0.8, 1.0],\n",
        "    'min_child_weight': [1, 3, 5]\n",
        "}\n"
      ],
      "metadata": {
        "id": "8SfS_d03F_3A"
      },
      "execution_count": null,
      "outputs": []
    },
    {
      "cell_type": "markdown",
      "source": [
        "# Step 7: configures GridSearchCV to perform hyperparameter tuning on the XGBoost model:\n",
        "\n",
        "Estimator: Uses xgb_model, the initialized XGBoost classifier.\n",
        "\n",
        "Parameter Grid: Searches through param_grid combinations of hyperparameters.\n",
        "\n",
        "Scoring: Uses the F1 score as the evaluation metric.\n",
        "\n",
        "Cross-Validation (cv): Splits data into 5 folds for validation.\n",
        "\n",
        "Verbose: Provides detailed output for each step of the search.\n",
        "\n",
        "n_jobs: Sets to -1 to use all available CPU cores, speeding up the search."
      ],
      "metadata": {
        "id": "uxqPeCfHqY22"
      }
    },
    {
      "cell_type": "code",
      "source": [
        "# Set up the GridSearchCV\n",
        "grid_search = GridSearchCV(estimator=xgb_model,\n",
        "                           param_grid=param_grid,\n",
        "                           scoring='f1',\n",
        "                           cv=5,\n",
        "                           verbose=2,\n",
        "                           n_jobs=-1)\n"
      ],
      "metadata": {
        "id": "BMkbvAkMGHWd"
      },
      "execution_count": null,
      "outputs": []
    },
    {
      "cell_type": "markdown",
      "source": [
        "# Step8 :fits the grid search to the training data to find the best XGBoost model configuration. After training, it retrieves the optimal model (best_xgb_model) and the best hyperparameters (best_params), printing the results."
      ],
      "metadata": {
        "id": "gzrl3uQAqTfE"
      }
    },
    {
      "cell_type": "code",
      "source": [
        "# Fit the grid search to the training data with encoded labels\n",
        "grid_search.fit(X_train, y_train_encoded)\n",
        "\n",
        "# Get the best model and parameters\n",
        "best_xgb_model = grid_search.best_estimator_\n",
        "best_params = grid_search.best_params_\n",
        "print(\"Best Parameters:\", best_params)\n"
      ],
      "metadata": {
        "colab": {
          "base_uri": "https://localhost:8080/"
        },
        "id": "G6RtGuu_GMxA",
        "outputId": "2ef22d75-338a-40b4-d8a3-c1edde99431f"
      },
      "execution_count": null,
      "outputs": [
        {
          "output_type": "stream",
          "name": "stdout",
          "text": [
            "Fitting 5 folds for each of 324 candidates, totalling 1620 fits\n"
          ]
        },
        {
          "output_type": "stream",
          "name": "stderr",
          "text": [
            "/usr/local/lib/python3.10/dist-packages/xgboost/core.py:158: UserWarning: [03:45:58] WARNING: /workspace/src/learner.cc:740: \n",
            "Parameters: { \"use_label_encoder\" } are not used.\n",
            "\n",
            "  warnings.warn(smsg, UserWarning)\n"
          ]
        },
        {
          "output_type": "stream",
          "name": "stdout",
          "text": [
            "Best Parameters: {'colsample_bytree': 1.0, 'learning_rate': 0.2, 'max_depth': 5, 'min_child_weight': 1, 'n_estimators': 300, 'subsample': 1.0}\n"
          ]
        }
      ]
    },
    {
      "cell_type": "markdown",
      "source": [
        "# Step 9:evaluates the performance of the optimized XGBoost model on the test set:\n",
        "\n",
        "Predictions: y_pred stores predictions made by best_xgb_model on X_test.\n",
        "\n",
        "Accuracy: Calculates and prints the accuracy of the predictions compared to the encoded test labels, y_test_encoded.\n",
        "\n",
        "Classification Report: Prints a detailed report showing precision, recall, F1-score, and support for each class, giving insight into model performance per label.\n",
        "\n",
        "Confusion Matrix: Displays a confusion matrix to show the counts of true positives, false positives, true negatives, and false negatives, offering a quick overview of classification results.\n"
      ],
      "metadata": {
        "id": "nNhBtpMPqq6P"
      }
    },
    {
      "cell_type": "code",
      "source": [
        "from sklearn.metrics import accuracy_score, classification_report, confusion_matrix\n",
        "\n",
        "# Make predictions on the test set using the best model\n",
        "y_pred = best_xgb_model.predict(X_test)\n",
        "\n",
        "# Calculate accuracy\n",
        "accuracy = accuracy_score(y_test_encoded, y_pred)\n",
        "print(\"Accuracy:\", accuracy)\n",
        "\n",
        "# Print classification report\n",
        "print(\"Classification Report:\\n\", classification_report(y_test_encoded, y_pred))\n",
        "\n",
        "# Print confusion matrix\n",
        "print(\"Confusion Matrix:\\n\", confusion_matrix(y_test_encoded, y_pred))\n"
      ],
      "metadata": {
        "colab": {
          "base_uri": "https://localhost:8080/"
        },
        "id": "85r43TkoImxg",
        "outputId": "7b704b64-f6a3-41c8-f19f-bec2ed2cf2be"
      },
      "execution_count": null,
      "outputs": [
        {
          "output_type": "stream",
          "name": "stdout",
          "text": [
            "Accuracy: 0.9943181818181818\n",
            "Classification Report:\n",
            "               precision    recall  f1-score   support\n",
            "\n",
            "           0       1.00      0.99      0.99      1232\n",
            "           1       0.99      1.00      0.99      1232\n",
            "\n",
            "    accuracy                           0.99      2464\n",
            "   macro avg       0.99      0.99      0.99      2464\n",
            "weighted avg       0.99      0.99      0.99      2464\n",
            "\n",
            "Confusion Matrix:\n",
            " [[1220   12]\n",
            " [   2 1230]]\n"
          ]
        }
      ]
    },
    {
      "cell_type": "markdown",
      "source": [
        "# Step10:sets up a neural network model using TensorFlow and Keras for binary classification tasks:\n",
        "\n",
        "Library Imports: It imports necessary components from TensorFlow and Keras for building and training the model.\n",
        "\n",
        "Model Definition: The function create_model(input_shape) defines the architecture of the neural network:\n",
        "\n",
        "Input Layer: Accepts the shape of the input data.\n",
        "Hidden Layers:\n",
        "First hidden layer with 128 neurons and ReLU activation.\n",
        "A dropout layer (50% dropout rate) to mitigate overfitting.\n",
        "Second hidden layer with 64 neurons and ReLU activation.\n",
        "Another dropout layer.\n",
        "Third hidden layer with 32 neurons and ReLU activation.\n",
        "Output Layer: A single neuron with a sigmoid activation function, suitable for binary classification tasks (outputting probabilities).\n",
        "Model Compilation: The model is compiled with:\n",
        "\n",
        "Optimizer: Adam optimizer for efficient training.\n",
        "Loss Function: Binary cross-entropy, appropriate for binary classification problems.\n",
        "Metrics: Accuracy to monitor model performance during training and evaluation.\n",
        "Input Shape: The input_shape variable is defined based on the number of features in the training data, ensuring the model knows how many input features to expect.\n",
        "\n",
        "Model Summary: Finally, model.summary() provides a detailed overview of the model architecture, including the number of layers, output shapes, and the total number of parameters."
      ],
      "metadata": {
        "id": "e3F4yngmqzqe"
      }
    },
    {
      "cell_type": "code",
      "source": [
        "import tensorflow as tf\n",
        "from tensorflow import keras\n",
        "from tensorflow.keras import layers\n",
        "\n",
        "# Define the model architecture\n",
        "def create_model(input_shape):\n",
        "    model = keras.Sequential()\n",
        "\n",
        "    # Input layer\n",
        "    model.add(layers.InputLayer(input_shape=input_shape))\n",
        "\n",
        "    # Hidden layers\n",
        "    model.add(layers.Dense(128, activation='relu'))  # First hidden layer\n",
        "    model.add(layers.Dropout(0.5))                   # Dropout layer to prevent overfitting\n",
        "    model.add(layers.Dense(64, activation='relu'))   # Second hidden layer\n",
        "    model.add(layers.Dropout(0.5))                   # Another Dropout layer\n",
        "    model.add(layers.Dense(32, activation='relu'))   # Third hidden layer\n",
        "\n",
        "    # Output layer\n",
        "    model.add(layers.Dense(1, activation='sigmoid'))  # For binary classification\n",
        "\n",
        "    # Compile the model\n",
        "    model.compile(optimizer='adam',\n",
        "                  loss='binary_crossentropy',\n",
        "                  metrics=['accuracy'])\n",
        "\n",
        "    return model\n",
        "\n",
        "# Example input shape (number of features in your dataset)\n",
        "input_shape = (X_train.shape[1],)  # Adjust according to your feature set\n",
        "model = create_model(input_shape)\n",
        "\n",
        "# Summary of the model architecture\n",
        "model.summary()\n"
      ],
      "metadata": {
        "colab": {
          "base_uri": "https://localhost:8080/",
          "height": 376
        },
        "id": "fW7co4VQIxNB",
        "outputId": "688b631a-fffa-4426-9061-6cb365567e7e"
      },
      "execution_count": null,
      "outputs": [
        {
          "output_type": "stream",
          "name": "stderr",
          "text": [
            "/usr/local/lib/python3.10/dist-packages/keras/src/layers/core/input_layer.py:26: UserWarning: Argument `input_shape` is deprecated. Use `shape` instead.\n",
            "  warnings.warn(\n"
          ]
        },
        {
          "output_type": "display_data",
          "data": {
            "text/plain": [
              "\u001b[1mModel: \"sequential\"\u001b[0m\n"
            ],
            "text/html": [
              "<pre style=\"white-space:pre;overflow-x:auto;line-height:normal;font-family:Menlo,'DejaVu Sans Mono',consolas,'Courier New',monospace\"><span style=\"font-weight: bold\">Model: \"sequential\"</span>\n",
              "</pre>\n"
            ]
          },
          "metadata": {}
        },
        {
          "output_type": "display_data",
          "data": {
            "text/plain": [
              "┏━━━━━━━━━━━━━━━━━━━━━━━━━━━━━━━━━━━━━━┳━━━━━━━━━━━━━━━━━━━━━━━━━━━━━┳━━━━━━━━━━━━━━━━━┓\n",
              "┃\u001b[1m \u001b[0m\u001b[1mLayer (type)                        \u001b[0m\u001b[1m \u001b[0m┃\u001b[1m \u001b[0m\u001b[1mOutput Shape               \u001b[0m\u001b[1m \u001b[0m┃\u001b[1m \u001b[0m\u001b[1m        Param #\u001b[0m\u001b[1m \u001b[0m┃\n",
              "┡━━━━━━━━━━━━━━━━━━━━━━━━━━━━━━━━━━━━━━╇━━━━━━━━━━━━━━━━━━━━━━━━━━━━━╇━━━━━━━━━━━━━━━━━┩\n",
              "│ dense (\u001b[38;5;33mDense\u001b[0m)                        │ (\u001b[38;5;45mNone\u001b[0m, \u001b[38;5;34m128\u001b[0m)                 │           \u001b[38;5;34m1,152\u001b[0m │\n",
              "├──────────────────────────────────────┼─────────────────────────────┼─────────────────┤\n",
              "│ dropout (\u001b[38;5;33mDropout\u001b[0m)                    │ (\u001b[38;5;45mNone\u001b[0m, \u001b[38;5;34m128\u001b[0m)                 │               \u001b[38;5;34m0\u001b[0m │\n",
              "├──────────────────────────────────────┼─────────────────────────────┼─────────────────┤\n",
              "│ dense_1 (\u001b[38;5;33mDense\u001b[0m)                      │ (\u001b[38;5;45mNone\u001b[0m, \u001b[38;5;34m64\u001b[0m)                  │           \u001b[38;5;34m8,256\u001b[0m │\n",
              "├──────────────────────────────────────┼─────────────────────────────┼─────────────────┤\n",
              "│ dropout_1 (\u001b[38;5;33mDropout\u001b[0m)                  │ (\u001b[38;5;45mNone\u001b[0m, \u001b[38;5;34m64\u001b[0m)                  │               \u001b[38;5;34m0\u001b[0m │\n",
              "├──────────────────────────────────────┼─────────────────────────────┼─────────────────┤\n",
              "│ dense_2 (\u001b[38;5;33mDense\u001b[0m)                      │ (\u001b[38;5;45mNone\u001b[0m, \u001b[38;5;34m32\u001b[0m)                  │           \u001b[38;5;34m2,080\u001b[0m │\n",
              "├──────────────────────────────────────┼─────────────────────────────┼─────────────────┤\n",
              "│ dense_3 (\u001b[38;5;33mDense\u001b[0m)                      │ (\u001b[38;5;45mNone\u001b[0m, \u001b[38;5;34m1\u001b[0m)                   │              \u001b[38;5;34m33\u001b[0m │\n",
              "└──────────────────────────────────────┴─────────────────────────────┴─────────────────┘\n"
            ],
            "text/html": [
              "<pre style=\"white-space:pre;overflow-x:auto;line-height:normal;font-family:Menlo,'DejaVu Sans Mono',consolas,'Courier New',monospace\">┏━━━━━━━━━━━━━━━━━━━━━━━━━━━━━━━━━━━━━━┳━━━━━━━━━━━━━━━━━━━━━━━━━━━━━┳━━━━━━━━━━━━━━━━━┓\n",
              "┃<span style=\"font-weight: bold\"> Layer (type)                         </span>┃<span style=\"font-weight: bold\"> Output Shape                </span>┃<span style=\"font-weight: bold\">         Param # </span>┃\n",
              "┡━━━━━━━━━━━━━━━━━━━━━━━━━━━━━━━━━━━━━━╇━━━━━━━━━━━━━━━━━━━━━━━━━━━━━╇━━━━━━━━━━━━━━━━━┩\n",
              "│ dense (<span style=\"color: #0087ff; text-decoration-color: #0087ff\">Dense</span>)                        │ (<span style=\"color: #00d7ff; text-decoration-color: #00d7ff\">None</span>, <span style=\"color: #00af00; text-decoration-color: #00af00\">128</span>)                 │           <span style=\"color: #00af00; text-decoration-color: #00af00\">1,152</span> │\n",
              "├──────────────────────────────────────┼─────────────────────────────┼─────────────────┤\n",
              "│ dropout (<span style=\"color: #0087ff; text-decoration-color: #0087ff\">Dropout</span>)                    │ (<span style=\"color: #00d7ff; text-decoration-color: #00d7ff\">None</span>, <span style=\"color: #00af00; text-decoration-color: #00af00\">128</span>)                 │               <span style=\"color: #00af00; text-decoration-color: #00af00\">0</span> │\n",
              "├──────────────────────────────────────┼─────────────────────────────┼─────────────────┤\n",
              "│ dense_1 (<span style=\"color: #0087ff; text-decoration-color: #0087ff\">Dense</span>)                      │ (<span style=\"color: #00d7ff; text-decoration-color: #00d7ff\">None</span>, <span style=\"color: #00af00; text-decoration-color: #00af00\">64</span>)                  │           <span style=\"color: #00af00; text-decoration-color: #00af00\">8,256</span> │\n",
              "├──────────────────────────────────────┼─────────────────────────────┼─────────────────┤\n",
              "│ dropout_1 (<span style=\"color: #0087ff; text-decoration-color: #0087ff\">Dropout</span>)                  │ (<span style=\"color: #00d7ff; text-decoration-color: #00d7ff\">None</span>, <span style=\"color: #00af00; text-decoration-color: #00af00\">64</span>)                  │               <span style=\"color: #00af00; text-decoration-color: #00af00\">0</span> │\n",
              "├──────────────────────────────────────┼─────────────────────────────┼─────────────────┤\n",
              "│ dense_2 (<span style=\"color: #0087ff; text-decoration-color: #0087ff\">Dense</span>)                      │ (<span style=\"color: #00d7ff; text-decoration-color: #00d7ff\">None</span>, <span style=\"color: #00af00; text-decoration-color: #00af00\">32</span>)                  │           <span style=\"color: #00af00; text-decoration-color: #00af00\">2,080</span> │\n",
              "├──────────────────────────────────────┼─────────────────────────────┼─────────────────┤\n",
              "│ dense_3 (<span style=\"color: #0087ff; text-decoration-color: #0087ff\">Dense</span>)                      │ (<span style=\"color: #00d7ff; text-decoration-color: #00d7ff\">None</span>, <span style=\"color: #00af00; text-decoration-color: #00af00\">1</span>)                   │              <span style=\"color: #00af00; text-decoration-color: #00af00\">33</span> │\n",
              "└──────────────────────────────────────┴─────────────────────────────┴─────────────────┘\n",
              "</pre>\n"
            ]
          },
          "metadata": {}
        },
        {
          "output_type": "display_data",
          "data": {
            "text/plain": [
              "\u001b[1m Total params: \u001b[0m\u001b[38;5;34m11,521\u001b[0m (45.00 KB)\n"
            ],
            "text/html": [
              "<pre style=\"white-space:pre;overflow-x:auto;line-height:normal;font-family:Menlo,'DejaVu Sans Mono',consolas,'Courier New',monospace\"><span style=\"font-weight: bold\"> Total params: </span><span style=\"color: #00af00; text-decoration-color: #00af00\">11,521</span> (45.00 KB)\n",
              "</pre>\n"
            ]
          },
          "metadata": {}
        },
        {
          "output_type": "display_data",
          "data": {
            "text/plain": [
              "\u001b[1m Trainable params: \u001b[0m\u001b[38;5;34m11,521\u001b[0m (45.00 KB)\n"
            ],
            "text/html": [
              "<pre style=\"white-space:pre;overflow-x:auto;line-height:normal;font-family:Menlo,'DejaVu Sans Mono',consolas,'Courier New',monospace\"><span style=\"font-weight: bold\"> Trainable params: </span><span style=\"color: #00af00; text-decoration-color: #00af00\">11,521</span> (45.00 KB)\n",
              "</pre>\n"
            ]
          },
          "metadata": {}
        },
        {
          "output_type": "display_data",
          "data": {
            "text/plain": [
              "\u001b[1m Non-trainable params: \u001b[0m\u001b[38;5;34m0\u001b[0m (0.00 B)\n"
            ],
            "text/html": [
              "<pre style=\"white-space:pre;overflow-x:auto;line-height:normal;font-family:Menlo,'DejaVu Sans Mono',consolas,'Courier New',monospace\"><span style=\"font-weight: bold\"> Non-trainable params: </span><span style=\"color: #00af00; text-decoration-color: #00af00\">0</span> (0.00 B)\n",
              "</pre>\n"
            ]
          },
          "metadata": {}
        }
      ]
    },
    {
      "cell_type": "markdown",
      "source": [
        "# Step 11:  prepares for training a neural network model with TensorFlow/Keras:\n",
        "\n",
        "Label Encoding: It initializes a LabelEncoder, transforms the target variable for the training (y_train) and validation (y_val) sets into numeric values, and prints the unique encoded values for verification.\n",
        "\n",
        "Early Stopping Callback: Defines an EarlyStopping callback to monitor validation loss during training. If no improvement is observed over 5 epochs, training stops, and the best model weights are restored to prevent overfitting.\n",
        "\n",
        "Model Training: Trains the model using the training data (X_train and y_train_encoded), with validation data provided to evaluate performance. The training runs for up to 50 epochs with a batch size of 32, using the early stopping callback to enhance training efficiency."
      ],
      "metadata": {
        "id": "8YNb45wFrBJy"
      }
    },
    {
      "cell_type": "code",
      "source": [
        "from sklearn.preprocessing import LabelEncoder\n",
        "from tensorflow.keras.callbacks import EarlyStopping\n",
        "\n",
        "# Initialize the LabelEncoder\n",
        "label_encoder = LabelEncoder()\n",
        "\n",
        "# Fit the encoder and transform the target variable\n",
        "y_train_encoded = label_encoder.fit_transform(y_train)\n",
        "y_val_encoded = label_encoder.transform(y_val)\n",
        "\n",
        "# Optional: Check the unique values\n",
        "print(\"Unique values in y_train_encoded:\", set(y_train_encoded))\n",
        "print(\"Unique values in y_val_encoded:\", set(y_val_encoded))\n",
        "\n",
        "# Define EarlyStopping callback\n",
        "early_stopping = EarlyStopping(\n",
        "    monitor='val_loss',          # Monitor the validation loss\n",
        "    patience=5,                  # Stop after 5 epochs with no improvement\n",
        "    restore_best_weights=True    # Restore the best model weights\n",
        ")\n",
        "\n",
        "# Train the model with encoded labels and EarlyStopping callback\n",
        "history = model.fit(\n",
        "    X_train, y_train_encoded,\n",
        "    validation_data=(X_val, y_val_encoded),  # Validation set\n",
        "    epochs=50,                               # Number of epochs\n",
        "    batch_size=32,                           # Batch size\n",
        "    callbacks=[early_stopping],              # Early stopping callback\n",
        "    verbose=1                                # Verbosity level\n",
        ")\n"
      ],
      "metadata": {
        "colab": {
          "base_uri": "https://localhost:8080/"
        },
        "id": "GCfKIhJ4I9wC",
        "outputId": "648aaaba-ca20-48bb-adb8-487854aa8900"
      },
      "execution_count": null,
      "outputs": [
        {
          "output_type": "stream",
          "name": "stdout",
          "text": [
            "Unique values in y_train_encoded: {0, 1}\n",
            "Unique values in y_val_encoded: {0, 1}\n",
            "Epoch 1/50\n",
            "\u001b[1m360/360\u001b[0m \u001b[32m━━━━━━━━━━━━━━━━━━━━\u001b[0m\u001b[37m\u001b[0m \u001b[1m4s\u001b[0m 3ms/step - accuracy: 0.7467 - loss: 13721.1504 - val_accuracy: 0.9399 - val_loss: 680.1213\n",
            "Epoch 2/50\n",
            "\u001b[1m360/360\u001b[0m \u001b[32m━━━━━━━━━━━━━━━━━━━━\u001b[0m\u001b[37m\u001b[0m \u001b[1m1s\u001b[0m 2ms/step - accuracy: 0.8993 - loss: 3452.2336 - val_accuracy: 0.9460 - val_loss: 407.1069\n",
            "Epoch 3/50\n",
            "\u001b[1m360/360\u001b[0m \u001b[32m━━━━━━━━━━━━━━━━━━━━\u001b[0m\u001b[37m\u001b[0m \u001b[1m1s\u001b[0m 3ms/step - accuracy: 0.8966 - loss: 2154.0415 - val_accuracy: 0.9257 - val_loss: 234.4163\n",
            "Epoch 4/50\n",
            "\u001b[1m360/360\u001b[0m \u001b[32m━━━━━━━━━━━━━━━━━━━━\u001b[0m\u001b[37m\u001b[0m \u001b[1m1s\u001b[0m 3ms/step - accuracy: 0.8875 - loss: 1410.9485 - val_accuracy: 0.9249 - val_loss: 115.5947\n",
            "Epoch 5/50\n",
            "\u001b[1m360/360\u001b[0m \u001b[32m━━━━━━━━━━━━━━━━━━━━\u001b[0m\u001b[37m\u001b[0m \u001b[1m1s\u001b[0m 2ms/step - accuracy: 0.9033 - loss: 634.1906 - val_accuracy: 0.9184 - val_loss: 92.4234\n",
            "Epoch 6/50\n",
            "\u001b[1m360/360\u001b[0m \u001b[32m━━━━━━━━━━━━━━━━━━━━\u001b[0m\u001b[37m\u001b[0m \u001b[1m1s\u001b[0m 2ms/step - accuracy: 0.9073 - loss: 960.9031 - val_accuracy: 0.9269 - val_loss: 79.5894\n",
            "Epoch 7/50\n",
            "\u001b[1m360/360\u001b[0m \u001b[32m━━━━━━━━━━━━━━━━━━━━\u001b[0m\u001b[37m\u001b[0m \u001b[1m1s\u001b[0m 2ms/step - accuracy: 0.9011 - loss: 608.5802 - val_accuracy: 0.9115 - val_loss: 63.1295\n",
            "Epoch 8/50\n",
            "\u001b[1m360/360\u001b[0m \u001b[32m━━━━━━━━━━━━━━━━━━━━\u001b[0m\u001b[37m\u001b[0m \u001b[1m1s\u001b[0m 3ms/step - accuracy: 0.9002 - loss: 379.6558 - val_accuracy: 0.9241 - val_loss: 39.6285\n",
            "Epoch 9/50\n",
            "\u001b[1m360/360\u001b[0m \u001b[32m━━━━━━━━━━━━━━━━━━━━\u001b[0m\u001b[37m\u001b[0m \u001b[1m2s\u001b[0m 4ms/step - accuracy: 0.8938 - loss: 586.3029 - val_accuracy: 0.9310 - val_loss: 22.0067\n",
            "Epoch 10/50\n",
            "\u001b[1m360/360\u001b[0m \u001b[32m━━━━━━━━━━━━━━━━━━━━\u001b[0m\u001b[37m\u001b[0m \u001b[1m2s\u001b[0m 4ms/step - accuracy: 0.8892 - loss: 223.3607 - val_accuracy: 0.9322 - val_loss: 16.1340\n",
            "Epoch 11/50\n",
            "\u001b[1m360/360\u001b[0m \u001b[32m━━━━━━━━━━━━━━━━━━━━\u001b[0m\u001b[37m\u001b[0m \u001b[1m2s\u001b[0m 2ms/step - accuracy: 0.8645 - loss: 185.5725 - val_accuracy: 0.9172 - val_loss: 5.3917\n",
            "Epoch 12/50\n",
            "\u001b[1m360/360\u001b[0m \u001b[32m━━━━━━━━━━━━━━━━━━━━\u001b[0m\u001b[37m\u001b[0m \u001b[1m1s\u001b[0m 2ms/step - accuracy: 0.8458 - loss: 74.3722 - val_accuracy: 0.9294 - val_loss: 7.2530\n",
            "Epoch 13/50\n",
            "\u001b[1m360/360\u001b[0m \u001b[32m━━━━━━━━━━━━━━━━━━━━\u001b[0m\u001b[37m\u001b[0m \u001b[1m1s\u001b[0m 2ms/step - accuracy: 0.8518 - loss: 129.4991 - val_accuracy: 0.9160 - val_loss: 4.1745\n",
            "Epoch 14/50\n",
            "\u001b[1m360/360\u001b[0m \u001b[32m━━━━━━━━━━━━━━━━━━━━\u001b[0m\u001b[37m\u001b[0m \u001b[1m1s\u001b[0m 2ms/step - accuracy: 0.8099 - loss: 203.0809 - val_accuracy: 0.9140 - val_loss: 8.0568\n",
            "Epoch 15/50\n",
            "\u001b[1m360/360\u001b[0m \u001b[32m━━━━━━━━━━━━━━━━━━━━\u001b[0m\u001b[37m\u001b[0m \u001b[1m1s\u001b[0m 2ms/step - accuracy: 0.7954 - loss: 39.0200 - val_accuracy: 0.9156 - val_loss: 0.4216\n",
            "Epoch 16/50\n",
            "\u001b[1m360/360\u001b[0m \u001b[32m━━━━━━━━━━━━━━━━━━━━\u001b[0m\u001b[37m\u001b[0m \u001b[1m1s\u001b[0m 2ms/step - accuracy: 0.7695 - loss: 48.2618 - val_accuracy: 0.9022 - val_loss: 1.9752\n",
            "Epoch 17/50\n",
            "\u001b[1m360/360\u001b[0m \u001b[32m━━━━━━━━━━━━━━━━━━━━\u001b[0m\u001b[37m\u001b[0m \u001b[1m1s\u001b[0m 2ms/step - accuracy: 0.6991 - loss: 60.5799 - val_accuracy: 0.7675 - val_loss: 0.3898\n",
            "Epoch 18/50\n",
            "\u001b[1m360/360\u001b[0m \u001b[32m━━━━━━━━━━━━━━━━━━━━\u001b[0m\u001b[37m\u001b[0m \u001b[1m1s\u001b[0m 2ms/step - accuracy: 0.6702 - loss: 13.2842 - val_accuracy: 0.5000 - val_loss: 0.6647\n",
            "Epoch 19/50\n",
            "\u001b[1m360/360\u001b[0m \u001b[32m━━━━━━━━━━━━━━━━━━━━\u001b[0m\u001b[37m\u001b[0m \u001b[1m1s\u001b[0m 3ms/step - accuracy: 0.6444 - loss: 28.2827 - val_accuracy: 0.5000 - val_loss: 0.6100\n",
            "Epoch 20/50\n",
            "\u001b[1m360/360\u001b[0m \u001b[32m━━━━━━━━━━━━━━━━━━━━\u001b[0m\u001b[37m\u001b[0m \u001b[1m1s\u001b[0m 4ms/step - accuracy: 0.6443 - loss: 10.1350 - val_accuracy: 0.6181 - val_loss: 0.4735\n",
            "Epoch 21/50\n",
            "\u001b[1m360/360\u001b[0m \u001b[32m━━━━━━━━━━━━━━━━━━━━\u001b[0m\u001b[37m\u001b[0m \u001b[1m2s\u001b[0m 3ms/step - accuracy: 0.6564 - loss: 56.6031 - val_accuracy: 0.8953 - val_loss: 0.4231\n",
            "Epoch 22/50\n",
            "\u001b[1m360/360\u001b[0m \u001b[32m━━━━━━━━━━━━━━━━━━━━\u001b[0m\u001b[37m\u001b[0m \u001b[1m1s\u001b[0m 2ms/step - accuracy: 0.6590 - loss: 14.4890 - val_accuracy: 0.7451 - val_loss: 0.5519\n"
          ]
        }
      ]
    },
    {
      "cell_type": "code",
      "source": [
        "pip install joblib\n"
      ],
      "metadata": {
        "colab": {
          "base_uri": "https://localhost:8080/"
        },
        "id": "rYwtd_myJIUZ",
        "outputId": "e02ce182-cf57-40be-fda2-8cc7ef686842"
      },
      "execution_count": null,
      "outputs": [
        {
          "output_type": "stream",
          "name": "stdout",
          "text": [
            "Requirement already satisfied: joblib in /usr/local/lib/python3.10/dist-packages (1.4.2)\n"
          ]
        }
      ]
    },
    {
      "cell_type": "markdown",
      "source": [
        "# Step 12: saves the trained model to a file using joblib:\n",
        "\n",
        "Model Saving: It specifies a filename (fraud_detection_model.pkl) for the saved model.\n",
        "\n",
        "Joblib Dump: The joblib.dump() function saves the trained model to the specified file.\n",
        "\n",
        "Confirmation Message: It prints a message confirming that the model has been saved successfully."
      ],
      "metadata": {
        "id": "jqc3qQSKrMTA"
      }
    },
    {
      "cell_type": "code",
      "source": [
        "import joblib\n",
        "\n",
        "# Assuming 'model' is your trained model\n",
        "model_filename = 'fraud_detection_model.pkl'  # Change the name as needed\n",
        "joblib.dump(model, model_filename)\n",
        "\n",
        "print(f\"Model saved to {model_filename}\")\n"
      ],
      "metadata": {
        "colab": {
          "base_uri": "https://localhost:8080/"
        },
        "id": "-muWr90rJN5t",
        "outputId": "58f88e55-82c4-46d5-e0ce-3fd5dc3513fb"
      },
      "execution_count": null,
      "outputs": [
        {
          "output_type": "stream",
          "name": "stdout",
          "text": [
            "Model saved to fraud_detection_model.pkl\n"
          ]
        }
      ]
    },
    {
      "cell_type": "markdown",
      "source": [
        "# Step 13: snippet is designed for use in Google Colab to save and download a trained model:\n",
        "\n",
        "Model Saving: It uses joblib.dump() to save the trained model as fraud_detection_model.pkl.\n",
        "\n",
        "File Download: The files.download() function from the google.colab module is called to download the saved model file directly to the user's local machine."
      ],
      "metadata": {
        "id": "6sRl4v0frSFi"
      }
    },
    {
      "cell_type": "code",
      "source": [
        "from google.colab import files\n",
        "\n",
        "# Save the model as shown before\n",
        "joblib.dump(model, 'fraud_detection_model.pkl')\n",
        "\n",
        "# Download the model file\n",
        "files.download('fraud_detection_model.pkl')"
      ],
      "metadata": {
        "colab": {
          "base_uri": "https://localhost:8080/",
          "height": 17
        },
        "id": "01P4v6KBJXfd",
        "outputId": "a9bde12a-db3c-4dea-ba1f-ab5401917c17"
      },
      "execution_count": null,
      "outputs": [
        {
          "output_type": "display_data",
          "data": {
            "text/plain": [
              "<IPython.core.display.Javascript object>"
            ],
            "application/javascript": [
              "\n",
              "    async function download(id, filename, size) {\n",
              "      if (!google.colab.kernel.accessAllowed) {\n",
              "        return;\n",
              "      }\n",
              "      const div = document.createElement('div');\n",
              "      const label = document.createElement('label');\n",
              "      label.textContent = `Downloading \"${filename}\": `;\n",
              "      div.appendChild(label);\n",
              "      const progress = document.createElement('progress');\n",
              "      progress.max = size;\n",
              "      div.appendChild(progress);\n",
              "      document.body.appendChild(div);\n",
              "\n",
              "      const buffers = [];\n",
              "      let downloaded = 0;\n",
              "\n",
              "      const channel = await google.colab.kernel.comms.open(id);\n",
              "      // Send a message to notify the kernel that we're ready.\n",
              "      channel.send({})\n",
              "\n",
              "      for await (const message of channel.messages) {\n",
              "        // Send a message to notify the kernel that we're ready.\n",
              "        channel.send({})\n",
              "        if (message.buffers) {\n",
              "          for (const buffer of message.buffers) {\n",
              "            buffers.push(buffer);\n",
              "            downloaded += buffer.byteLength;\n",
              "            progress.value = downloaded;\n",
              "          }\n",
              "        }\n",
              "      }\n",
              "      const blob = new Blob(buffers, {type: 'application/binary'});\n",
              "      const a = document.createElement('a');\n",
              "      a.href = window.URL.createObjectURL(blob);\n",
              "      a.download = filename;\n",
              "      div.appendChild(a);\n",
              "      a.click();\n",
              "      div.remove();\n",
              "    }\n",
              "  "
            ]
          },
          "metadata": {}
        },
        {
          "output_type": "display_data",
          "data": {
            "text/plain": [
              "<IPython.core.display.Javascript object>"
            ],
            "application/javascript": [
              "download(\"download_64626cad-8c3b-48f2-a905-966d36b84e93\", \"fraud_detection_model.pkl\", 168212)"
            ]
          },
          "metadata": {}
        }
      ]
    },
    {
      "cell_type": "markdown",
      "source": [
        "# Step14:  snippet saves a trained LabelEncoder to a file for later use:\n",
        "\n",
        "Label Encoding: It initializes a LabelEncoder and fits it to the target labels (y_train), transforming them into numeric values.\n",
        "\n",
        "Model Saving: The trained LabelEncoder is saved to a file named label_encoder.pkl using joblib.dump()."
      ],
      "metadata": {
        "id": "iij_0gT4rbPz"
      }
    },
    {
      "cell_type": "code",
      "source": [
        "from sklearn.preprocessing import LabelEncoder\n",
        "import joblib\n",
        "\n",
        "# Initialize and fit the LabelEncoder\n",
        "label_encoder = LabelEncoder()\n",
        "\n",
        "# Assuming y_train contains your target labels\n",
        "y_train_encoded = label_encoder.fit_transform(y_train)\n",
        "\n",
        "# Save the LabelEncoder\n",
        "joblib.dump(label_encoder, 'label_encoder.pkl')"
      ],
      "metadata": {
        "colab": {
          "base_uri": "https://localhost:8080/"
        },
        "id": "LC8If8KqJa4L",
        "outputId": "cb0dc2eb-72e5-450a-ddee-88e7edd1a3a7"
      },
      "execution_count": null,
      "outputs": [
        {
          "output_type": "execute_result",
          "data": {
            "text/plain": [
              "['label_encoder.pkl']"
            ]
          },
          "metadata": {},
          "execution_count": 50
        }
      ]
    },
    {
      "cell_type": "markdown",
      "source": [
        "# Step 15: snippet demonstrates how to load a previously saved trained model and label encoder:\n",
        "\n",
        "Model Loading: It uses joblib.load() to load the saved model from the file fraud_detection_model.pkl.\n",
        "\n",
        "Label Encoder Loading: Similarly, it loads the saved LabelEncoder from the file label_encoder.pkl."
      ],
      "metadata": {
        "id": "XpIEjdNurgXU"
      }
    },
    {
      "cell_type": "code",
      "source": [
        "# Load the trained model and the label encoder\n",
        "model = joblib.load('fraud_detection_model.pkl')\n",
        "label_encoder = joblib.load('label_encoder.pkl')  # Make sure this file exists\n"
      ],
      "metadata": {
        "id": "I4R-6ZbAJlqD"
      },
      "execution_count": null,
      "outputs": []
    },
    {
      "cell_type": "markdown",
      "source": [
        "# Step 16: defines a function to predict whether a transaction is fraudulent based on user input:\n",
        "\n",
        "Model and Encoder Loading: It loads a pre-trained fraud detection model and a label encoder from saved files using joblib.\n",
        "\n",
        "User Input: The predict_fraud function prompts the user to input values for the required features (e.g., step, customer, age, gender, transaction type, amount, old balance, new balance).\n",
        "\n",
        "Data Preparation: The input data is organized into a dictionary and converted into a DataFrame. Categorical features (gender and transaction type) are transformed using the label encoder, handling any unseen labels by appending them to the encoder's classes.\n",
        "\n",
        "Column Order: The DataFrame is rearranged to match the order of features used during training.\n",
        "\n",
        "Prediction: The model makes a prediction based on the prepared input data, and the result is printed to indicate whether the transaction is fraudulent or not."
      ],
      "metadata": {
        "id": "WzFLWMe6rwwk"
      }
    },
    {
      "cell_type": "code",
      "source": [
        "import pandas as pd\n",
        "import joblib\n",
        "\n",
        "# Load the trained model and label encoder\n",
        "model = joblib.load('fraud_detection_model.pkl')  # Adjust the model file name accordingly\n",
        "label_encoder = joblib.load('label_encoder.pkl')  # Load the label encoder\n",
        "\n",
        "def predict_fraud():\n",
        "    # Get user input for all 8 features the model expects\n",
        "    step = int(input(\"Enter step: \"))\n",
        "    customer = int(input(\"Enter customer: \"))\n",
        "    age = int(input(\"Enter age: \"))\n",
        "    gender = input(\"Enter gender (MALE/FEMALE): \")\n",
        "    transaction_type = input(\"Enter transaction type (e.g., 'CASH_IN', 'CASH_OUT', etc.): \")\n",
        "    amount = float(input(\"Enter transaction amount (e.g., 379057.93): \"))\n",
        "    oldbalance_org = float(input(\"Enter old balance origin (oldbalanceOrg): \"))  # Old balance as float\n",
        "    newbalance_orig = float(input(\"Enter new balance origin (newbalanceOrig): \"))  # New balance as float\n",
        "\n",
        "\n",
        "    # Prepare the input data for the model\n",
        "    input_data = {\n",
        "        'step': step,\n",
        "        'customer': customer,\n",
        "        'age': age,\n",
        "        'gender': gender,\n",
        "        'type': transaction_type,\n",
        "        'amount': amount,\n",
        "        'oldbalanceOrg': oldbalance_org,\n",
        "        'newbalanceOrig': newbalance_orig\n",
        "    }\n",
        "\n",
        "    # Convert the input data into a DataFrame\n",
        "    input_df = pd.DataFrame([input_data])\n",
        "\n",
        "    # Transform categorical features using the label encoder\n",
        "    for col in ['gender', 'type']:  # Add other categorical columns if needed\n",
        "        # Handle unseen labels: If a new label is encountered,\n",
        "        # add it to the label encoder's classes and transform it\n",
        "        if input_df[col].iloc[0] not in label_encoder.classes_:\n",
        "            label_encoder.classes_ = np.append(label_encoder.classes_, input_df[col].iloc[0])\n",
        "\n",
        "        input_df[col] = label_encoder.transform(input_df[col])\n",
        "\n",
        "\n",
        "    # Ensure all columns are in the same order as during training\n",
        "    # Assuming your original training data had these 8 columns in this order\n",
        "    input_df = input_df[['step', 'customer', 'age', 'gender', 'type', 'amount', 'oldbalanceOrg', 'newbalanceOrig']]\n",
        "\n",
        "    # Make predictions\n",
        "    prediction = model.predict(input_df)\n",
        "\n",
        "    # Output the prediction\n",
        "    # ... (same as before) ...\n",
        "    if prediction[0] == 1:\n",
        "        print(\"Transaction is fraudulent.\")\n",
        "    else:\n",
        "        print(\"Transaction is not fraudulent.\")\n",
        "\n",
        "\n",
        "# Run the function to make a prediction\n",
        "predict_fraud()"
      ],
      "metadata": {
        "colab": {
          "base_uri": "https://localhost:8080/"
        },
        "id": "00o-SdvkLuuf",
        "outputId": "c694cf30-7222-41b8-907c-3d5a71edb594"
      },
      "execution_count": null,
      "outputs": [
        {
          "name": "stdout",
          "output_type": "stream",
          "text": [
            "Enter step: 1\n",
            "Enter customer: 45\n",
            "Enter age: 23\n",
            "Enter gender (MALE/FEMALE): FEMALE\n",
            "Enter transaction type (e.g., 'CASH_IN', 'CASH_OUT', etc.): CASH_IN\n",
            "Enter transaction amount (e.g., 379057.93): 2000\n",
            "Enter old balance origin (oldbalanceOrg): 8000\n",
            "Enter new balance origin (newbalanceOrig): 10000\n"
          ]
        },
        {
          "output_type": "stream",
          "name": "stderr",
          "text": [
            "WARNING:tensorflow:6 out of the last 6 calls to <function TensorFlowTrainer.make_predict_function.<locals>.one_step_on_data_distributed at 0x7ae4cf481990> triggered tf.function retracing. Tracing is expensive and the excessive number of tracings could be due to (1) creating @tf.function repeatedly in a loop, (2) passing tensors with different shapes, (3) passing Python objects instead of tensors. For (1), please define your @tf.function outside of the loop. For (2), @tf.function has reduce_retracing=True option that can avoid unnecessary retracing. For (3), please refer to https://www.tensorflow.org/guide/function#controlling_retracing and https://www.tensorflow.org/api_docs/python/tf/function for  more details.\n"
          ]
        },
        {
          "output_type": "stream",
          "name": "stdout",
          "text": [
            "\u001b[1m1/1\u001b[0m \u001b[32m━━━━━━━━━━━━━━━━━━━━\u001b[0m\u001b[37m\u001b[0m \u001b[1m0s\u001b[0m 81ms/step\n",
            "Transaction is not fraudulent.\n"
          ]
        }
      ]
    }
  ]
}